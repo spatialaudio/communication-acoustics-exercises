{
 "cells": [
  {
   "cell_type": "markdown",
   "metadata": {},
   "source": [
    "$G_\\mathrm{2D}(\\mathbf{x},\\mathbf{x_0},\\omega) = -\\frac{\\mathrm{j}}{4}\\,H_0^{(2)}(\\frac{\\omega}{c}\\,|\\mathbf{x}-\\mathbf{x_0}|)$\n",
    "\n",
    "$H_0^{(2)}(\\frac{\\omega}{c}\\,|\\mathbf{x}-\\mathbf{x_0}|)\\approx \\sqrt{\\frac{2}{\\pi\\,\\frac{\\omega}{c}\\,|\\mathbf{x}-\\mathbf{x_0}|}}\\,\\mathrm{e}^{-\\mathrm{j}\\,\\frac{\\omega}{c}\\,|\\mathbf{x}-\\mathbf{x_0}|}\\,\\mathrm{e}^{+\\mathrm{j}\\,\\frac{\\pi}{4}}$ for $ \\frac{\\omega}{c}\\,|\\mathbf{x}-\\mathbf{x_0}| \\gg 1$\n",
    "\n",
    "Thus, \n",
    "$$G_\\mathrm{2D}(\\mathbf{x},\\mathbf{x_0},\\omega) \\approx -\\frac{\\mathrm{j}}{4}\\,\\sqrt{\\frac{2}{\\pi\\,\\frac{\\omega}{c}\\,|\\mathbf{x}-\\mathbf{x_0}|}}\\,\\mathrm{e}^{-\\mathrm{j}\\,\\frac{\\omega}{c}\\,|\\mathbf{x}-\\mathbf{x_0}|}\\,\\mathrm{e}^{+\\mathrm{j}\\,\\frac{\\pi}{4}}$$\n",
    "and rearranging\n",
    "$$G_\\mathrm{2D}(\\mathbf{x},\\mathbf{x_0},\\omega) \\approx \\sqrt{\\frac{1}{8\\,\\pi\\,\\frac{\\omega}{c}\\,|\\mathbf{x}-\\mathbf{x_0}|}}\\,\\mathrm{e}^{-\\mathrm{j}\\,\\frac{\\omega}{c}\\,|\\mathbf{x}-\\mathbf{x_0}|}\\,\\mathrm{e}^{+\\mathrm{j}\\,\\frac{\\pi}{4}}\\,\\mathrm{e}^{-\\mathrm{j}\\,\\frac{\\pi}{2}}$$\n",
    "\n",
    "$$G_\\mathrm{2D}(\\mathbf{x},\\mathbf{x_0},\\omega) \\approx \\sqrt{\\frac{1}{8\\,\\pi\\,\\frac{\\omega}{c}\\,|\\mathbf{x}-\\mathbf{x_0}|}}\\,\\mathrm{e}^{-\\mathrm{j}\\,\\frac{\\omega}{c}\\,|\\mathbf{x}-\\mathbf{x_0}|}\\,\\mathrm{e}^{-\\mathrm{j}\\,\\frac{\\pi}{4}}$$\n",
    "\n",
    "If we want a magnitude of 1 at a certain distance $r_\\mathrm{ref}=|\\mathbf{x_{ref}}-\\mathbf{x_0}|$ we have to compensate with\n",
    "$\\sqrt{8\\,\\pi\\,\\frac{\\omega}{c}\\,|\\mathbf{x}-\\mathbf{x_0}|}$, which reduces to\n",
    "$\\sqrt{8\\,\\pi\\,\\frac{\\omega}{c}}$ for $r_\\mathrm{ref}=1\\,\\mathrm{m}$.\n",
    "\n",
    "If we want to compensate for the frequency independent phase shift $-\\frac{\\pi}{4}$ to obtain the same phase relation as the 3D Green's function we just have to apply a phase correction term $\\mathrm{e}^{+\\mathrm{j}\\,\\frac{\\pi}{4}}=\\mathrm{e}^{-\\mathrm{j}\\,\\frac{7\\,\\pi}{4}}$.\n",
    "\n",
    "Note that these correction terms are only valid if $ \\frac{\\omega}{c}\\,|\\mathbf{x}-\\mathbf{x_0}| \\gg 1$ is fulfilled. In the nearfield of the 2D Green's function a correction term must be obtained from the Hankel function. Nevertheless, we obtain reasonable results if we write\n",
    "\n",
    "$$G_\\mathrm{2D}(\\mathbf{x},\\mathbf{x_0},\\omega) = -\\frac{\\mathrm{j}}{4}\\,H_0^{(2)}(\\frac{\\omega}{c}\\,|\\mathbf{x}-\\mathbf{x_0}|)\\,\\mathrm{e}^{-\\mathrm{j}\\,\\frac{7\\,\\pi}{4}}\\,\\sqrt{8\\,\\pi\\,\\frac{\\omega}{c}},$$\n",
    "\n",
    "which then yields comparable results of a magnitude 1 @ 1 m corrected 3D Green's function\n",
    "\n",
    "$$G_\\mathrm{3D}(\\mathbf{x},\\mathbf{x_0},\\omega)=\\frac{\\mathrm{e}^{-\\mathrm{j}\\,\\frac{\\omega}{c}\\,|\\mathbf{x}-\\mathbf{x_0}|}}{4\\,\\pi\\,|\\mathbf{x}-\\mathbf{x_0}|}\\cdot 4\\,\\pi\\,.$$\n"
   ]
  },
  {
   "cell_type": "code",
   "execution_count": null,
   "metadata": {
    "collapsed": true
   },
   "outputs": [],
   "source": []
  }
 ],
 "metadata": {
  "kernelspec": {
   "display_name": "Python 3",
   "language": "python",
   "name": "python3"
  },
  "language_info": {
   "codemirror_mode": {
    "name": "ipython",
    "version": 3
   },
   "file_extension": ".py",
   "mimetype": "text/x-python",
   "name": "python",
   "nbconvert_exporter": "python",
   "pygments_lexer": "ipython3",
   "version": "3.4.3"
  }
 },
 "nbformat": 4,
 "nbformat_minor": 0
}
