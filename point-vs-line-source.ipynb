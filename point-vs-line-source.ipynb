{
 "cells": [
  {
   "cell_type": "code",
   "execution_count": null,
   "id": "4ba5437a",
   "metadata": {},
   "outputs": [],
   "source": [
    "import matplotlib.pyplot as plt\n",
    "from matplotlib.animation import FuncAnimation\n",
    "from matplotlib.cm import get_cmap\n",
    "from matplotlib.colors import BoundaryNorm\n",
    "import numpy as np"
   ]
  },
  {
   "cell_type": "markdown",
   "id": "66c64807-7919-4eba-9a5d-59a2373109dd",
   "metadata": {},
   "source": [
    "# Point Source vs. Line Source\n",
    "\n",
    "# Spherical Wave vs. Cylindrical Wave"
   ]
  },
  {
   "cell_type": "code",
   "execution_count": null,
   "id": "5d7fc2d4-afdc-454a-a710-3b5bdab35178",
   "metadata": {},
   "outputs": [],
   "source": [
    "def plot_soundfield(p):\n",
    "\n",
    "    col_tick = np.linspace(-2, +2, 255, endpoint=True)\n",
    "    cmap_lin = get_cmap('bwr').copy()\n",
    "    norm_lin = BoundaryNorm(col_tick, cmap_lin.N)\n",
    "\n",
    "    dBmax = 12\n",
    "    dBmin = -30\n",
    "    dBstep = 3\n",
    "\n",
    "    col_tick = np.linspace(dBmin, dBmax, (dBmax - dBmin) //\n",
    "                           dBstep + 1, endpoint=True)\n",
    "    cmap_dB = get_cmap('viridis').copy()\n",
    "    norm_dB = BoundaryNorm(col_tick, cmap_dB.N)\n",
    "\n",
    "    fig, ax = plt.subplots(figsize=(12, 6),\n",
    "                           nrows=1,\n",
    "                           ncols=2,\n",
    "                           subplot_kw=dict(box_aspect=1))  # equal axis scaling\n",
    "\n",
    "    cax_lin = fig.add_axes([0.15, 0.2, 0.02, 0.6])\n",
    "\n",
    "    cax_dB = fig.add_axes([0.55, 0.2, 0.02, 0.6])\n",
    "\n",
    "    surf_lin = ax[0].pcolormesh(x, y, np.real(p),\n",
    "                                cmap=cmap_lin,\n",
    "                                norm=norm_lin,\n",
    "                                antialiased=True)\n",
    "\n",
    "    surf_dB = ax[1].pcolormesh(x, y, 10*np.log10(np.abs(p)**2 / 1**2),\n",
    "                               cmap=cmap_dB,\n",
    "                               norm=norm_dB,\n",
    "                               antialiased=True)\n",
    "\n",
    "    fig.colorbar(surf_lin,\n",
    "                 cax=cax_lin,\n",
    "                 ticks=np.linspace(-2, 2, 5),\n",
    "                 orientation='vertical',\n",
    "                 label='lin')\n",
    "\n",
    "    fig.colorbar(surf_dB,\n",
    "                 cax=cax_dB,\n",
    "                 ticks=np.linspace(\n",
    "                     dBmax, dBmin, (dBmax - dBmin) // (2*dBstep) + 1),\n",
    "                 orientation='vertical',\n",
    "                 label='dB(rel1)')\n",
    "\n",
    "    for i in range(2):\n",
    "        ax[i].set_xticks(np.linspace(-8, 8, 9))\n",
    "        ax[i].set_yticks(np.linspace(-8, 8, 9))\n",
    "        ax[i].set_xlabel('x / m')\n",
    "        ax[i].set_ylabel('y / m')\n",
    "        ax[i].grid(True)"
   ]
  },
  {
   "cell_type": "markdown",
   "id": "d5853e7c-33fd-4ed1-9649-7d8a4746ea9b",
   "metadata": {},
   "source": [
    "## Acoustic Parameters"
   ]
  },
  {
   "cell_type": "code",
   "execution_count": null,
   "id": "a366e378-a0e1-420b-9a3a-36070f0e173d",
   "metadata": {},
   "outputs": [],
   "source": [
    "c = 343  # m/s, speed of sound\n",
    "wave_length = 2  # m\n",
    "w_c = 2*np.pi / wave_length  # rad/m\n",
    "w = w_c*c  # rad/s, angular frequency"
   ]
  },
  {
   "cell_type": "markdown",
   "id": "91fe1c2b-4635-495f-9b1d-3af8e8948afa",
   "metadata": {},
   "source": [
    "## Square xy-Plane as Grid"
   ]
  },
  {
   "cell_type": "code",
   "execution_count": null,
   "id": "76d638e9",
   "metadata": {},
   "outputs": [],
   "source": [
    "N = 2**8\n",
    "xylim = 8\n",
    "x, y = np.meshgrid(np.linspace(-xylim, xylim, N, endpoint=True),\n",
    "                   np.linspace(-xylim, xylim, N, endpoint=True),\n",
    "                   indexing='ij')\n",
    "xvg = np.array([x, y])  # prepare for broadcasting"
   ]
  },
  {
   "cell_type": "markdown",
   "id": "57c5e0b4-d771-4175-9c3f-178a23e629a1",
   "metadata": {},
   "source": [
    "## Point Source Position within z=0 Plane"
   ]
  },
  {
   "cell_type": "code",
   "execution_count": null,
   "id": "ba79d512",
   "metadata": {},
   "outputs": [],
   "source": [
    "xps = 0  # m\n",
    "yps = 2  # m\n",
    "xpsv = np.array([xps, yps])\n",
    "xpsv = xpsv[:, np.newaxis, np.newaxis]  # prepare dim for broadcasting\n",
    "xpsv.shape"
   ]
  },
  {
   "cell_type": "code",
   "execution_count": null,
   "id": "9795b3a0-97cb-4ac3-8012-981685c564db",
   "metadata": {},
   "outputs": [],
   "source": [
    "r = np.linalg.norm(xvg - xpsv, axis=0)  # works due to broadcasting\n",
    "# outgoing spherical wave with exp(+j w t) time convention\n",
    "p = np.exp(-1j * w_c * r) / (4*np.pi*r)\n",
    "p_norm = 4*np.pi\n",
    "p *= p_norm\n",
    "plot_soundfield(p)"
   ]
  },
  {
   "cell_type": "markdown",
   "id": "ffcbf5c5-bff6-498f-9687-6c8a5f427e62",
   "metadata": {},
   "source": [
    "## Line Source, invariant w.r.t z"
   ]
  },
  {
   "cell_type": "code",
   "execution_count": null,
   "id": "63d08119-e4af-4905-9740-c9bd4987c0f4",
   "metadata": {},
   "outputs": [],
   "source": [
    "xls = 0  # m\n",
    "yls = 2  # m\n",
    "xlsv = np.array([xls, yls])\n",
    "xlsv = xlsv[:, np.newaxis, np.newaxis]  # prepare dim for broadcasting\n",
    "xlsv.shape"
   ]
  },
  {
   "cell_type": "code",
   "execution_count": null,
   "id": "34d83b43-0955-43a6-9c93-6adbb4e63b88",
   "metadata": {},
   "outputs": [],
   "source": [
    "r = np.linalg.norm(xvg - xlsv, axis=0)  # works due to broadcasting"
   ]
  },
  {
   "cell_type": "markdown",
   "id": "2f6fa0d1-74f3-42ee-b745-95f893b54952",
   "metadata": {},
   "source": [
    "### Bessel Differential Equation\n",
    "\n",
    "is the wave equation solution for the uniformly driven line source with respect to the radial component.\n",
    "See https://dlmf.nist.gov/10.2#i\n",
    "\n",
    "We need either terms including $ \\propto J_0(\\frac{\\omega}{c}r) - \\mathrm{j} Y_0(\\frac{\\omega}{c}r)$, which is known as Bessel function of the first and second kind, respectively, of order 0.\n",
    "Alternatively, we can deploy $H^{(2)}_0(\\frac{\\omega}{c}r) = J_0(\\frac{\\omega}{c}r) - \\mathrm{j} Y_0(\\frac{\\omega}{c}r)$ directly as a function. $H^{(2)}_0(\\cdot)$ is known as Hankel function of 2nd kind of order 0 or sometimes Bessel function of the third kind.\n",
    "\n",
    "Note that Hankel function of 2nd kind is strictly linked to our used $\\mathrm{e}^{+ \\mathrm{j} \\omega t}$ time convention.\n",
    "\n",
    "We make sure, that we don't confuse this with another option to describe wave propagation $H^{(1)}_0(\\cdot) \\mathrm{e}^{- \\mathrm{j} \\omega t}$, using Hankel function of first kind of order zero $H^{(1)}_0(\\frac{\\omega}{c}r) = J_0(\\frac{\\omega}{c}r) + \\mathrm{j} Y_0(\\frac{\\omega}{c}r)$\n",
    "\n"
   ]
  },
  {
   "cell_type": "code",
   "execution_count": null,
   "id": "854e9817-050a-4aff-8bd0-78a61f47e73a",
   "metadata": {},
   "outputs": [],
   "source": [
    "from scipy.special import jv, yv, hankel2\n",
    "# check equality with an example\n",
    "np.allclose(jv(0, np.pi) - 1j*yv(0, np.pi), hankel2(0, np.pi))"
   ]
  },
  {
   "cell_type": "code",
   "execution_count": null,
   "id": "de554d44-cfdd-4b51-9366-6e754e97266f",
   "metadata": {},
   "outputs": [],
   "source": [
    "# outgoing cylindrical wave with exp(+j w t) time convention\n",
    "p = -1j / 4 * hankel2(0, w_c * r)\n",
    "p_norm = np.sqrt(8*np.pi*w_c) * np.exp(-1j*7*np.pi/4)\n",
    "p *= p_norm\n",
    "plot_soundfield(p)"
   ]
  },
  {
   "cell_type": "markdown",
   "id": "c59b0ece-95d5-4ed9-89eb-eec39d5c8465",
   "metadata": {},
   "source": [
    "### Pressure Decay of Line Source along y-Axis"
   ]
  },
  {
   "cell_type": "code",
   "execution_count": null,
   "id": "e79e6f12-5889-45ac-87c9-cff9534a3f46",
   "metadata": {},
   "outputs": [],
   "source": [
    "y1 = np.linspace(-8, 8, 1000)\n",
    "xv = np.array([0*y1, y1])\n",
    "print(xv.shape)\n",
    "\n",
    "xlsv = np.array([xls, yls])\n",
    "xlsv = xlsv[:, np.newaxis]  # prepare dim for broadcasting\n",
    "print(xlsv.shape)\n",
    "\n",
    "r = np.linalg.norm(xv - xlsv, axis=0)  # works due to broadcasting\n",
    "# outgoing cylindrical wave with exp(+j w t) time convention\n",
    "p = -1j / 4 * hankel2(0, w_c * r)\n",
    "r_norm = 2  # m\n",
    "p_norm = np.sqrt(8*np.pi*w_c * r_norm) * np.exp(-1j*7*np.pi/4)\n",
    "p *= p_norm\n",
    "\n",
    "# large argument approximation of hankel2(0, ...) yields\n",
    "p_farfield_highfrequency = -1j / 4 * \\\n",
    "    np.sqrt(2/(np.pi*w_c*r)) * np.exp(-1j*w_c*r) * np.exp(+1j*np.pi/4)\n",
    "p_farfield_highfrequency *= p_norm  # same p_norm as above\n",
    "\n",
    "plt.figure(figsize=(8, 5))\n",
    "plt.plot(y1, np.real(p), 'C0', label='exact')\n",
    "plt.plot(y1, np.real(p_farfield_highfrequency),\n",
    "         'C1:', label='large arg approx')\n",
    "plt.plot(4, 1, 'C3o')\n",
    "plt.plot(0, 1, 'C3o')\n",
    "plt.xticks(np.arange(-8, 9))\n",
    "plt.yticks(np.arange(-2, 9))\n",
    "plt.ylim(-2, 9)\n",
    "plt.xlabel('y / m')\n",
    "plt.ylabel('pressure')\n",
    "plt.legend(loc='upper left')\n",
    "plt.grid(True)"
   ]
  },
  {
   "cell_type": "markdown",
   "id": "7720ba40",
   "metadata": {},
   "source": [
    "<p xmlns:dct=\"http://purl.org/dc/terms/\">\n",
    "  <a rel=\"license\"\n",
    "     href=\"http://creativecommons.org/publicdomain/zero/1.0/\">\n",
    "    <img src=\"http://i.creativecommons.org/p/zero/1.0/88x31.png\" style=\"border-style: none;\" alt=\"CC0\" />\n",
    "  </a>\n",
    "  <br />\n",
    "  To the extent possible under law,\n",
    "  <span rel=\"dct:publisher\" resource=\"[_:publisher]\">the person who associated CC0</span>\n",
    "  with this work has waived all copyright and related or neighboring\n",
    "    rights to this work.\n",
    "</p>"
   ]
  }
 ],
 "metadata": {
  "kernelspec": {
   "display_name": "mycomac",
   "language": "python",
   "name": "mycomac"
  },
  "language_info": {
   "codemirror_mode": {
    "name": "ipython",
    "version": 3
   },
   "file_extension": ".py",
   "mimetype": "text/x-python",
   "name": "python",
   "nbconvert_exporter": "python",
   "pygments_lexer": "ipython3",
   "version": "3.9.12"
  }
 },
 "nbformat": 4,
 "nbformat_minor": 5
}
