{
 "cells": [
  {
   "cell_type": "markdown",
   "metadata": {},
   "source": [
    "[exercises](ir.ipynb)"
   ]
  },
  {
   "cell_type": "code",
   "execution_count": null,
   "metadata": {},
   "outputs": [],
   "source": [
    "import matplotlib.pyplot as plt\n",
    "import numpy as np\n",
    "from scipy import signal\n",
    "from scipy.linalg import convolution_matrix\n",
    "import soundfile as sf\n",
    "import tools"
   ]
  },
  {
   "cell_type": "code",
   "execution_count": null,
   "metadata": {},
   "outputs": [],
   "source": [
    "sig, fs = sf.read('data/xmas.wav')\n",
    "fs"
   ]
  },
  {
   "cell_type": "code",
   "execution_count": null,
   "metadata": {
    "scrolled": true
   },
   "outputs": [],
   "source": [
    "sig_blackbox = tools.blackbox(sig, fs)"
   ]
  },
  {
   "cell_type": "code",
   "execution_count": null,
   "metadata": {},
   "outputs": [],
   "source": [
    "sf.write('data/xmas_blackbox.wav', sig_blackbox, fs)"
   ]
  },
  {
   "cell_type": "markdown",
   "metadata": {},
   "source": [
    "<audio src=\"data/xmas.wav\" controls>Your browser does not support the audio element.</audio>\n",
    "[data/xmas.wav](data/xmas.wav)\n",
    "\n",
    "<audio src=\"data/xmas_blackbox.wav\" controls>Your browser does not support the audio element.</audio>\n",
    "[data/xmas_blackbox.wav](data/xmas_blackbox.wav)\n",
    "\n",
    "The system is supposed to sound like narrow-band telephony (limited to a frequency range from 300 to 3400 Hz)."
   ]
  },
  {
   "cell_type": "code",
   "execution_count": null,
   "metadata": {},
   "outputs": [],
   "source": [
    "dur = 1/10  # seconds\n",
    "imp = np.zeros(np.ceil(dur * fs).astype('int'))\n",
    "imp[0] = 1"
   ]
  },
  {
   "cell_type": "code",
   "execution_count": null,
   "metadata": {},
   "outputs": [],
   "source": [
    "ir = tools.blackbox(imp, fs)"
   ]
  },
  {
   "cell_type": "code",
   "execution_count": null,
   "metadata": {},
   "outputs": [],
   "source": [
    "t = np.arange(len(imp)) / fs\n",
    "plt.plot(t, ir)\n",
    "plt.xlabel('t / s')\n",
    "plt.ylabel('ir(t)')\n",
    "plt.figure()\n",
    "plt.plot(t, tools.db(ir))\n",
    "plt.xlabel('t / s')\n",
    "plt.ylabel('20 log10 |ir(t)| in dB')\n",
    "plt.ylim(-130, -10)"
   ]
  },
  {
   "cell_type": "code",
   "execution_count": null,
   "metadata": {},
   "outputs": [],
   "source": [
    "w, h = signal.freqz(ir)\n",
    "plt.figure()\n",
    "plt.plot(w * fs / (2 * np.pi), tools.db(h))  # logarithmic y axis\n",
    "# plt.plot(w * fs / (2 * np.pi), np.abs(h))  # linear y axis\n",
    "plt.xscale('log')\n",
    "plt.xlabel('f / Hz')\n",
    "plt.ylabel('20 log10 |ir(t)| in dB')\n",
    "plt.ylim(-100, 10)\n",
    "plt.grid(True)"
   ]
  },
  {
   "cell_type": "code",
   "execution_count": null,
   "metadata": {},
   "outputs": [],
   "source": [
    "def naive_convolution(x, h):\n",
    "    \"\"\"Very inefficient convolution of two one-dimensional arrays.\"\"\"\n",
    "    totalsize = len(x) + len(h) - 1\n",
    "    y = np.zeros(totalsize)  # Allocate and initialize memory\n",
    "    for n in range(totalsize):\n",
    "        # m must be within range(len(x)) and it must meet the condition\n",
    "        # n >= m and (n-m) < len(h)\n",
    "        m_start = max(n + 1 - len(h), 0)\n",
    "        m_stop = min(n + 1, len(x))\n",
    "        for m in range(m_start, m_stop):\n",
    "            y[n] += x[m] * h[n - m]\n",
    "    return y"
   ]
  },
  {
   "cell_type": "code",
   "execution_count": null,
   "metadata": {},
   "outputs": [],
   "source": [
    "# This takes a loooong time:\n",
    "#sig_naive = naive_convolution(sig, ir)\n",
    "\n",
    "# Let's just try a tiny bit of the signal:\n",
    "%time sig_naive = naive_convolution(sig[:1000], ir)"
   ]
  },
  {
   "cell_type": "markdown",
   "metadata": {},
   "source": [
    "`len(y) == len(x) + len(h) - 1`\n",
    "\n",
    "The result should obviously be the same (but with `blackbox()` the resulting signal is shorter because the end is cut off)."
   ]
  },
  {
   "cell_type": "code",
   "execution_count": null,
   "metadata": {},
   "outputs": [],
   "source": [
    "ir.shape"
   ]
  },
  {
   "cell_type": "code",
   "execution_count": null,
   "metadata": {},
   "outputs": [],
   "source": [
    "# linear convolution via toeplitz matrix\n",
    "A = convolution_matrix(ir, len(sig[:1000]), mode='full')\n",
    "print(A.shape)\n",
    "%time sig_toeplitz = A @ sig[:1000]\n",
    "print(np.allclose(sig_naive, sig_toeplitz))"
   ]
  },
  {
   "cell_type": "code",
   "execution_count": null,
   "metadata": {},
   "outputs": [],
   "source": [
    "# fast convolution with fft\n",
    "x = np.zeros(len(sig_naive))  # we need zeropadding for linear conv\n",
    "h = np.zeros(len(sig_naive))\n",
    "x[:1000] = sig[:1000]\n",
    "h[:len(ir)] = ir\n",
    "%time sig_fft = np.fft.ifft(np.fft.fft(x) * np.fft.fft(h))\n",
    "print(np.allclose(sig_naive, sig_fft))"
   ]
  },
  {
   "cell_type": "markdown",
   "metadata": {
    "collapsed": true
   },
   "source": [
    "Yes, it should indeed be faster. *Very very much* faster! Note that we take the whole `sig` signal below."
   ]
  },
  {
   "cell_type": "code",
   "execution_count": null,
   "metadata": {},
   "outputs": [],
   "source": [
    "%time sig_convolve = np.convolve(sig, ir)"
   ]
  },
  {
   "cell_type": "code",
   "execution_count": null,
   "metadata": {},
   "outputs": [],
   "source": [
    "%time sig_fftconvolve = signal.fftconvolve(sig, ir)"
   ]
  },
  {
   "cell_type": "markdown",
   "metadata": {},
   "source": [
    "Note that with short durations, the result of `%time` isn't really reliable, because the measurement may be influenced by other things going on before and after the actual execution of the function and other processes executed by the operating system at the same time.\n",
    "\n",
    "To get a more reliable estimation, use `%timeit` instead."
   ]
  },
  {
   "cell_type": "code",
   "execution_count": null,
   "metadata": {},
   "outputs": [],
   "source": [
    "# TODO: longer signal for more realistic comparison"
   ]
  },
  {
   "cell_type": "code",
   "execution_count": null,
   "metadata": {},
   "outputs": [],
   "source": [
    "sig_blackbox_nonlinear = tools.blackbox_nonlinear(sig, fs)"
   ]
  },
  {
   "cell_type": "code",
   "execution_count": null,
   "metadata": {},
   "outputs": [],
   "source": [
    "sf.write('data/xmas_blackbox_nonlinear.wav', sig_blackbox_nonlinear, fs)"
   ]
  },
  {
   "cell_type": "markdown",
   "metadata": {},
   "source": [
    "The non-linear system should sound like a distorted narrow-band telephone."
   ]
  },
  {
   "cell_type": "code",
   "execution_count": null,
   "metadata": {},
   "outputs": [],
   "source": [
    "ir_nonlinear = tools.blackbox_nonlinear(imp, fs)"
   ]
  },
  {
   "cell_type": "code",
   "execution_count": null,
   "metadata": {},
   "outputs": [],
   "source": [
    "sig_nonlinear_convolve = np.convolve(sig, ir_nonlinear)"
   ]
  },
  {
   "cell_type": "code",
   "execution_count": null,
   "metadata": {},
   "outputs": [],
   "source": [
    "sf.write('data/xmas_convolution_nonlinear.wav', sig_nonlinear_convolve, fs)"
   ]
  },
  {
   "cell_type": "markdown",
   "metadata": {
    "collapsed": true
   },
   "source": [
    "<audio src=\"data/xmas.wav\" controls>Your browser does not support the audio element.</audio>\n",
    "[original](data/xmas.wav)\n",
    "\n",
    "<audio src=\"data/xmas_blackbox.wav\" controls>Your browser does not support the audio element.</audio>\n",
    "[through `tools.blackbox()`](data/xmas_blackbox.wav)\n",
    "\n",
    "<audio src=\"data/xmas_blackbox_nonlinear.wav\" controls>Your browser does not support the audio element.</audio>\n",
    "[through `tools.blackbox_nonlinear()`](data/xmas_blackbox_nonlinear.wav)\n",
    "\n",
    "<audio src=\"data/xmas_convolution_nonlinear.wav\" controls>Your browser does not support the audio element.</audio>\n",
    "[trying to use the impulse response of the non-linear system (doesn't work!)](data/xmas_convolution_nonlinear.wav)\n",
    "\n",
    "The answer to the final question is: No!"
   ]
  },
  {
   "cell_type": "code",
   "execution_count": null,
   "metadata": {},
   "outputs": [],
   "source": [
    "sig, fs = sf.read('data/singing.wav')\n",
    "sig_compressed = tools.compressor(sig, threshold=-30, ratio=3, makeup_gain=12)\n",
    "sf.write('data/singing_compressed.wav', sig_compressed, fs)"
   ]
  },
  {
   "cell_type": "code",
   "execution_count": null,
   "metadata": {},
   "outputs": [],
   "source": [
    "time = np.arange(len(sig)) * (1/fs)\n",
    "\n",
    "plt.plot(time, sig_compressed, label='compressed')\n",
    "plt.plot(time, sig, label='original')\n",
    "plt.xlabel('t / s')\n",
    "plt.legend()"
   ]
  },
  {
   "cell_type": "markdown",
   "metadata": {},
   "source": [
    "<audio src=\"data/singing.wav\" controls>Your browser does not support the audio element.</audio>\n",
    "[original](data/singing.wav)\n",
    "\n",
    "<audio src=\"data/singing_compressed.wav\" controls>Your browser does not support the audio element.</audio>\n",
    "[through `tools.compressor()`](data/singing_compressed.wav)"
   ]
  },
  {
   "cell_type": "markdown",
   "metadata": {},
   "source": [
    "<p xmlns:dct=\"http://purl.org/dc/terms/\">\n",
    "  <a rel=\"license\"\n",
    "     href=\"http://creativecommons.org/publicdomain/zero/1.0/\">\n",
    "    <img src=\"http://i.creativecommons.org/p/zero/1.0/88x31.png\" style=\"border-style: none;\" alt=\"CC0\" />\n",
    "  </a>\n",
    "  <br />\n",
    "  To the extent possible under law,\n",
    "  <span rel=\"dct:publisher\" resource=\"[_:publisher]\">the person who associated CC0</span>\n",
    "  with this work has waived all copyright and related or neighboring\n",
    "  rights to this work.\n",
    "</p>"
   ]
  }
 ],
 "metadata": {
  "anaconda-cloud": {},
  "kernelspec": {
   "display_name": "mycomac",
   "language": "python",
   "name": "mycomac"
  },
  "language_info": {
   "codemirror_mode": {
    "name": "ipython",
    "version": 3
   },
   "file_extension": ".py",
   "mimetype": "text/x-python",
   "name": "python",
   "nbconvert_exporter": "python",
   "pygments_lexer": "ipython3",
   "version": "3.9.12"
  }
 },
 "nbformat": 4,
 "nbformat_minor": 1
}
