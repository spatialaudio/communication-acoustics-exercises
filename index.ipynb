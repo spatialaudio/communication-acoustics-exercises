{
 "cells": [
  {
   "cell_type": "markdown",
   "metadata": {},
   "source": [
    "# Communication Acoustics - Exercises\n",
    "\n",
    "This repository holds some Jupyter notebooks (using the IPython kernel) which are part of the course material for the exercises accompanying the lecture \"Acoustics for Communications\" (in German \"Kommunikationsakustik\") at [Institute of Communications Engineering](http://www.int.uni-rostock.de/)/[Faculty of Computer Science and Electrical Engineering](http://www.ief.uni-rostock.de/)/[University of Rostock](http://www.uni-rostock.de/).\n",
    "\n",
    "Registered students can access course details via [StudIP](https://studip.uni-rostock.de/dispatch.php/course/overview?cid=bffc495093c66704fb142c8105af4cd0).\n",
    "\n",
    "The lectures/exercises are held each summer semester, starting in 2015.\n",
    "\n",
    "The notebooks and all additional files should be considered as [Open Educational Resources](https://en.wikipedia.org/wiki/Open_educational_resources)."
   ]
  },
  {
   "cell_type": "markdown",
   "metadata": {},
   "source": [
    "## Syllabus\n",
    "\n",
    "The exercises are split into the following units.\n",
    "Most of them build upon knowledge from previous units, so we should do them in order:\n",
    "\n",
    "1. [Introduction to Python et al., Working with Audio Signals](intro.ipynb)\n",
    "\n",
    "1. [Discrete Fourier Transform](dft.ipynb)\n",
    "\n",
    "1. [Impulse Responses, Convolution](ir.ipynb) & \n",
    "[Excitation Signals](excitation-signal.ipynb)\n",
    "\n",
    "1. [Room Impulse Responses](rir.ipynb)\n",
    "\n",
    "1. [Binaural Room Impulse Responses (BRIRs)](brir.ipynb), part 1\n",
    "\n",
    "1. BRIRs, part 2 (second half of the [previous notebook](brir.ipynb))\n",
    "\n",
    "1. Listening Tests (no notebook available)\n",
    "\n",
    "1. [Binaural Hearing](binaural-hearing.ipynb)\n",
    "\n",
    "1. [Audio Reproduction with Loudspeakers](reproduction.ipynb)\n",
    "\n",
    "1. Loudspeaker Demonstration (no notebook available)\n",
    "\n",
    "1. [Stereophonic Recording Techniques](recording.ipynb)\n",
    "\n",
    "1. Revision (no notebook available)"
   ]
  },
  {
   "cell_type": "markdown",
   "metadata": {},
   "source": [
    "## Getting Started\n",
    "\n",
    "### Static Online Version\n",
    "\n",
    "The Jupyter notebooks for each topic are available as [static web pages](http://nbviewer.jupyter.org/github/spatialaudio/communication-acoustics-exercises/) as well as for interactive use with [Jupyter](http://jupyter.org/) (formerly known as [IPython](http://ipython.org/)), to be [downloaded from Github](http://github.com/spatialaudio/communication-acoustics-exercises).\n",
    "\n",
    "### Get Notebooks from Github\n",
    "\n",
    "We should use [Git](http://git-scm.org/) to pull the files (or download the [zip file](https://github.com/spatialaudio/communication-acoustics-exercises/archive/master.zip)).\n",
    "If we are new to Git, we should have a look at this [introduction to Git](http://mg.rtfd.org/git.html).\n",
    "\n",
    "Alternatively, we can also download individual notebook files (with the extension `.ipynb`) and open them in IPython.\n",
    "However, some exercises make use of additional files (audio files etc.) which we will then also have to download manually.\n",
    "\n",
    "### Usage of Anconda Python Distribution\n",
    "\n",
    "If we want to utilize the [Anaconda](https://www.anaconda.com/products/distribution) distribution platform for Python 3.x to work on the notebooks on a local PC, we can create a dedicated environment `mycomac` using the `environment.yml` in the `.binder` subfolder.\n",
    "So, firstly we should make sure that we are in the `communication-acoustics-exercises` folder of our choice, e.g.\n",
    "        \n",
    "        cd git/communication-acoustics-exercises/\n",
    "\n",
    "Then, we create the environment by\n",
    "\n",
    "    conda env create -f /.binder/environment.yml\n",
    "\n",
    "Then, we activate the environment by\n",
    "\n",
    "    conda activate mycomac\n",
    "\n",
    "It is a good idea to have explicit knowledge which ipykernel belongs to our environment, so we explicitly install it with a dedicated name\n",
    "\n",
    "    python -m ipykernel install --user --name mycomac --display-name \"mycomac\"\n",
    "\n",
    "We start a jupyter lab session from terminal \n",
    "\n",
    "    jupyter lab\n",
    "\n",
    "and can play around with the Jupyter notebooks.\n",
    "We should ensure that we use the `mycomac` kernel.\n",
    "\n",
    "We might want to remove an ipykernel named `mycomac` and/or an existing `mycomac` environment once in a while by\n",
    "\n",
    "    jupyter kernelspec uninstall mycomac\n",
    "    conda env remove -n mycomac    \n",
    "    \n"
   ]
  },
  {
   "cell_type": "markdown",
   "metadata": {},
   "source": [
    "### Interactive Online Version\n",
    "\n",
    "If we don't feel like installing Jupyter/IPython, but still want to try out the notebooks, we can [![Binder](http://mybinder.org/badge.svg)](https://mybinder.org/v2/gh/spatialaudio/communication-acoustics-exercises/master?urlpath=lab/tree/index.ipynb) and start playing around immediately.\n",
    "\n",
    "Note, however, that our changes will not be preserved.\n",
    "Once we close our browser, everything will be lost!"
   ]
  },
  {
   "cell_type": "markdown",
   "metadata": {},
   "source": [
    "## External Links\n",
    "\n",
    "At Aalto University, Ville Pulkki gives a lecture called \"Communication Acoustics\" which is also available as a book (ISBN: 978-1-118-86654-2).\n",
    "The lecture slides and some other materials including audio examples are available at http://users.aalto.fi/~vpulkki/Communication_Acoustics/.\n",
    "\n",
    "Coursera.org offers a free online course with video lectures called [Audio Signal Processing for Music Applications](https://www.coursera.org/course/audio), which is taught by Xavier Serra and Julius O Smith, III.\n",
    "The topic is not quite the same, but the introductory units are similar and they are using Python, too!"
   ]
  },
  {
   "cell_type": "markdown",
   "metadata": {},
   "source": [
    "## Copyright Information\n",
    "\n",
    "<p xmlns:dct=\"http://purl.org/dc/terms/\">\n",
    "  <a rel=\"license\"\n",
    "     href=\"http://creativecommons.org/publicdomain/zero/1.0/\">\n",
    "    <img src=\"http://i.creativecommons.org/p/zero/1.0/88x31.png\" style=\"border-style: none;\" alt=\"CC0\" />\n",
    "  </a>\n",
    "  <br />\n",
    "  To the extent possible under law,\n",
    "  <span rel=\"dct:publisher\" resource=\"[_:publisher]\">the person who associated CC0</span>\n",
    "  with this work has waived all copyright and related or neighboring\n",
    "  rights to this work.\n",
    "</p>"
   ]
  }
 ],
 "metadata": {
  "kernelspec": {
   "display_name": "mycomac",
   "language": "python",
   "name": "mycomac"
  },
  "language_info": {
   "codemirror_mode": {
    "name": "ipython",
    "version": 3
   },
   "file_extension": ".py",
   "mimetype": "text/x-python",
   "name": "python",
   "nbconvert_exporter": "python",
   "pygments_lexer": "ipython3",
   "version": "3.9.12"
  }
 },
 "nbformat": 4,
 "nbformat_minor": 4
}
