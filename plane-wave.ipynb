{
 "cells": [
  {
   "cell_type": "code",
   "execution_count": null,
   "id": "4ba5437a",
   "metadata": {},
   "outputs": [],
   "source": [
    "import matplotlib.pyplot as plt\n",
    "from matplotlib.animation import FuncAnimation\n",
    "from matplotlib.cm import get_cmap\n",
    "from matplotlib.colors import BoundaryNorm\n",
    "import numpy as np\n",
    "%matplotlib widget"
   ]
  },
  {
   "cell_type": "markdown",
   "id": "39c5bd05",
   "metadata": {},
   "source": [
    "# 1. Plane wave in free field\n",
    "\n",
    "We play around with the plane wave solution $p \\,\\propto\\, \\mathrm{e}^{\\mathrm{j}(-k_x x - k_y y + \\omega t)}$ of the linear, homogeneous wave equation\n",
    "\n",
    "$$\\mathrm{div}\\,\\mathrm{grad}\\,p(\\mathbf{x},t) - \\frac{1}{c^2} \\frac{\\partial^2 p(\\mathbf{x},t)}{\\partial t^2} = 0$$\n",
    "\n",
    "in the $xy$-plane denoting speed of sound with $c$.\n",
    "\n",
    "Here we assume no radiation into $z$-direction, i.e. $k_z=0$.\n",
    "Hence, the dispersion relation reduces to\n",
    "\n",
    "$$k_x^2+k_y^2 = \\left(\\frac{\\omega}{c}\\right)^2.$$\n",
    "\n",
    "In vector notation, using\n",
    "\n",
    "\\begin{equation}\n",
    "\\mathbf{k} = \n",
    "\\begin{pmatrix}\n",
    "k_x\\\\k_y\\\\k_z=0\n",
    "\\end{pmatrix},\n",
    "\\qquad\n",
    "\\mathbf{x} = \n",
    "\\begin{pmatrix}\n",
    "x\\\\y\\\\z=0\n",
    "\\end{pmatrix},\n",
    "\\end{equation}\n",
    "\n",
    "we can write the considered plane wave solution in dot product fashion as\n",
    "\n",
    "$$p \\,\\propto\\, \\mathrm{e}^{\\mathrm{j}(-\\mathbf{k}^\\mathrm{T} \\mathbf{x} + \\omega t)},$$\n",
    "\n",
    "where $\\mathbf{k}$ indicates the **traveling/propagating direction** of the plane wave when choosing above $\\mathrm{e}^{+\\mathrm{j} \\omega t}$ time convention.\n",
    "\n",
    "We figure, that $k_x^2+k_y^2 = \\left(\\frac{\\omega}{c}\\right)^2$ is like Pythagorean theorem for right triangle.\n",
    "So, we can choose two of the three squared quantities, the third one is then fully determined.\n",
    "If the (angular) frequency $\\omega$ was already chosen (which we usually start with), we are left to choose only $k_x$ or $k_y$.\n",
    "This finally leaves us with the choice of radiation angle $\\phi$, which is encoded in the equations\n",
    "\n",
    "$$k_x = \\frac{\\omega}{c}\\cos(\\phi)\\qquad k_y = \\frac{\\omega}{c}\\sin(\\phi)$$\n",
    "\n",
    "for propagating plane waves (we do not deal here with so called evanescent waves, i.e. we assume $k_x\\in\\mathbb{R}$ and $k_y\\in\\mathbb{R}$).\n",
    "\n",
    "Let's check how this can be implemented, plotted and animated to gain some insight into simple wave phenomena."
   ]
  },
  {
   "cell_type": "code",
   "execution_count": null,
   "id": "0e1409a8",
   "metadata": {},
   "outputs": [],
   "source": [
    "c = 343  # m/s, speed of sound\n",
    "wave_length = 1  # m\n",
    "pA = 1  # N / m^2, arbitrarily chosen pressure amplitude\n",
    "radiation_angle = 0  # deg, propagating direction within xy-plane"
   ]
  },
  {
   "cell_type": "code",
   "execution_count": null,
   "id": "76d638e9",
   "metadata": {},
   "outputs": [],
   "source": [
    "# square xy-plane\n",
    "N = 2**6\n",
    "xylim = 2\n",
    "x, y = np.meshgrid(np.linspace(-xylim, xylim, N, endpoint=True),\n",
    "                   np.linspace(-xylim, xylim, N, endpoint=True),\n",
    "                   indexing='ij')"
   ]
  },
  {
   "cell_type": "code",
   "execution_count": null,
   "id": "103c51d8",
   "metadata": {},
   "outputs": [],
   "source": [
    "w_c = 2*np.pi / wave_length  # rad/m\n",
    "kx = w_c * np.cos(np.deg2rad(radiation_angle))\n",
    "ky = w_c * np.sin(np.deg2rad(radiation_angle))\n",
    "print('dispersion relation ok?', np.allclose(kx**2 + ky**2, w_c**2))\n",
    "w = w_c*c  # rad/s, angular frequency"
   ]
  },
  {
   "cell_type": "code",
   "execution_count": null,
   "id": "8f39f353",
   "metadata": {},
   "outputs": [],
   "source": [
    "# plane wave in xy-dimension using exp(+j w t) time convention\n",
    "p = pA * np.exp(-1j * (kx*x + ky*y))"
   ]
  },
  {
   "cell_type": "markdown",
   "id": "035f1dc3",
   "metadata": {},
   "source": [
    "## 1.1 Sound field snapshot using plot_surface"
   ]
  },
  {
   "cell_type": "code",
   "execution_count": null,
   "id": "6c59532e",
   "metadata": {},
   "outputs": [],
   "source": [
    "col_tick = np.linspace(-pA, +pA, 255, endpoint=True)\n",
    "cmap_lin = get_cmap('bwr').copy()\n",
    "norm_lin = BoundaryNorm(col_tick, cmap_lin.N)\n",
    "\n",
    "fig, ax = plt.subplots(figsize=(5, 4),\n",
    "                       subplot_kw={\"projection\": \"3d\"})\n",
    "surf = ax.plot_surface(x, y, np.real(p),\n",
    "                       cmap=cmap_lin,\n",
    "                       norm=norm_lin,\n",
    "                       antialiased=True)\n",
    "ax.set_xlabel('x / m')\n",
    "ax.set_ylabel('y / m')\n",
    "ax.azim = -90\n",
    "ax.elev = 90\n",
    "fig.colorbar(surf,\n",
    "             ticks=np.linspace(-pA, +pA, 5),\n",
    "             shrink=0.6, aspect=15)"
   ]
  },
  {
   "cell_type": "markdown",
   "id": "04c404f6",
   "metadata": {},
   "source": [
    "## 1.2 Sound field snapshot using pcolormesh"
   ]
  },
  {
   "cell_type": "code",
   "execution_count": null,
   "id": "ba79d512",
   "metadata": {},
   "outputs": [],
   "source": [
    "fig, ax = plt.subplots(figsize=(5, 4), nrows=1, ncols=1)\n",
    "surf = ax.pcolormesh(x, y, np.real(p),\n",
    "                     cmap=cmap_lin,\n",
    "                     norm=norm_lin,\n",
    "                     antialiased=True)\n",
    "ax.set_xlabel('x / m')\n",
    "ax.set_ylabel('y / m')\n",
    "ax.set_xticks(np.linspace(-2, 2, 5))\n",
    "ax.set_yticks(np.linspace(-2, 2, 5))\n",
    "ax.grid(True)\n",
    "fig.colorbar(surf, ticks=np.linspace(-pA, +pA, 5),\n",
    "             shrink=0.9, aspect=20)"
   ]
  },
  {
   "cell_type": "markdown",
   "id": "b5684abe",
   "metadata": {},
   "source": [
    "## 1.3 Animation of sound field using plot_surface"
   ]
  },
  {
   "cell_type": "code",
   "execution_count": null,
   "id": "3b39aeed",
   "metadata": {},
   "outputs": [],
   "source": [
    "n_periods = 2\n",
    "n_samples_per_period = 16\n",
    "Ts = 2*np.pi / (w*n_samples_per_period)  # s, sampling period\n",
    "\n",
    "\n",
    "def init():\n",
    "    ax.set_xlabel('x / m')\n",
    "    ax.set_ylabel('y / m')\n",
    "    ax.azim = -90\n",
    "    ax.elev = 90\n",
    "\n",
    "\n",
    "def update(frame):\n",
    "    ax.clear()\n",
    "    init()\n",
    "    ax.plot_surface(x, y, np.real(p*np.exp(+1j*w*Ts*frame)),\n",
    "                    cmap=cmap_lin,\n",
    "                    norm=norm_lin,\n",
    "                    antialiased=True)\n",
    "\n",
    "\n",
    "fig, ax = plt.subplots(subplot_kw={\"projection\": \"3d\"})\n",
    "update(0)\n",
    "init()\n",
    "\n",
    "ani = FuncAnimation(fig, update,\n",
    "                    frames=np.arange(n_periods*n_samples_per_period+1),\n",
    "                    blit=True, interval=50,\n",
    "                    repeat=False)\n",
    "plt.show()"
   ]
  },
  {
   "cell_type": "markdown",
   "id": "e4871b77",
   "metadata": {},
   "source": [
    "## 1.4 Animation of sound field using pcolormesh"
   ]
  },
  {
   "cell_type": "code",
   "execution_count": null,
   "id": "d7db229c",
   "metadata": {},
   "outputs": [],
   "source": [
    "n_periods = 2\n",
    "n_samples_per_period = 16\n",
    "Ts = 2*np.pi / (w*n_samples_per_period)  # s, sampling period\n",
    "\n",
    "\n",
    "def init():\n",
    "    ax.set_xlabel('x / m')\n",
    "    ax.set_ylabel('y / m')\n",
    "    ax.set_xticks(np.linspace(-2, 2, 5))\n",
    "    ax.set_yticks(np.linspace(-2, 2, 5))\n",
    "\n",
    "\n",
    "def update(frame):\n",
    "    ax.clear()\n",
    "    init()\n",
    "    ax.pcolormesh(x, y, np.real(p*np.exp(+1j*w*Ts*frame)),\n",
    "                  cmap=cmap_lin,\n",
    "                  norm=norm_lin,\n",
    "                  antialiased=True)\n",
    "    ax.set_title('elapsed time {time:4.3f} ms'.format(time=Ts*frame*1000))\n",
    "\n",
    "\n",
    "fig, ax = plt.subplots(figsize=(4, 4), nrows=1, ncols=1)\n",
    "update(0)\n",
    "init()\n",
    "\n",
    "ani = FuncAnimation(fig, update,\n",
    "                    frames=np.arange(n_periods*n_samples_per_period+1),\n",
    "                    blit=True, interval=50,\n",
    "                    repeat=False)\n",
    "plt.show()"
   ]
  },
  {
   "cell_type": "markdown",
   "id": "c3870509",
   "metadata": {},
   "source": [
    "# 2. Exercise\n",
    "\n",
    "Another solution to the linear wave equation\n",
    "\n",
    "$$\\mathrm{div}\\,\\mathrm{grad} p(\\mathbf{x},t) - \\frac{1}{c^2} \\frac{\\partial^2 p(\\mathbf{x},t)}{\\partial t^2} = 0$$\n",
    "\n",
    "except for the point $\\mathbf{x} = (0,0,0)^\\mathrm{T}$ is\n",
    "\n",
    "$$p \\,\\propto\\, \\frac{1}{4 \\pi} \\, \\frac{\\mathrm{e}^{\\mathrm{j}(-\\frac{\\omega}{c} r+\\omega t)}}{r}$$\n",
    "\n",
    "with $r = \\sqrt{x^2+y^2+z^2}$.\n",
    "\n",
    "## 2.1 Tasks\n",
    "\n",
    "1. Adapt the above source code for this wave equation solution.\n",
    "2. Plot the sound field.\n",
    "3. Animate the sound field.\n",
    "4. What kind of wave is this? We might also want to check the $xz$ and $yz$ plane to figure this out.\n",
    "5. What happens if we reverse the sign of the time phasor for the animation? Explain the observed phenomenon."
   ]
  },
  {
   "cell_type": "markdown",
   "id": "8e91334f",
   "metadata": {},
   "source": [
    "### 2.1.1 Sound field snapshot using pcolormesh"
   ]
  },
  {
   "cell_type": "code",
   "execution_count": null,
   "id": "9c4f2edd",
   "metadata": {},
   "outputs": [],
   "source": [
    "# r = \n",
    "# p = "
   ]
  },
  {
   "cell_type": "markdown",
   "id": "fe25e45c",
   "metadata": {},
   "source": [
    "### 2.1.2 Sound field snapshot using pcolormesh"
   ]
  },
  {
   "cell_type": "code",
   "execution_count": null,
   "id": "cb7a18cf",
   "metadata": {},
   "outputs": [],
   "source": [
    "#..."
   ]
  },
  {
   "cell_type": "markdown",
   "id": "e437e296",
   "metadata": {},
   "source": [
    "### 2.1.3 Animation of sound field using pcolormesh"
   ]
  },
  {
   "cell_type": "code",
   "execution_count": null,
   "id": "72282041",
   "metadata": {},
   "outputs": [],
   "source": [
    "#..."
   ]
  },
  {
   "cell_type": "markdown",
   "id": "f21d6c48",
   "metadata": {},
   "source": [
    "### 2.1.4"
   ]
  },
  {
   "cell_type": "code",
   "execution_count": null,
   "id": "1cea2f72",
   "metadata": {},
   "outputs": [],
   "source": [
    "#..."
   ]
  },
  {
   "cell_type": "markdown",
   "id": "acceed99",
   "metadata": {},
   "source": [
    "### 2.1.5"
   ]
  },
  {
   "cell_type": "code",
   "execution_count": null,
   "id": "ba0e3c0f",
   "metadata": {},
   "outputs": [],
   "source": [
    "#..."
   ]
  },
  {
   "cell_type": "markdown",
   "id": "0a84a99f",
   "metadata": {},
   "source": [
    "# 3. Plane wave with certain boundary conditions lead to a standing wave\n",
    "\n",
    "We consider 1D radiation along $x$-axis. Hence, $k_x^2 = \\left(\\frac{\\omega}{c}\\right)^2$, $k_y=$, $k_z=0$.\n",
    "\n",
    "At $-l$ (with $l>0$), i.e. at some point on the negative $x$-axis, there is an ideal membrane located, which injects the harmonic velocity $v_A$ into a (long, thin) tube.\n",
    "This tube physically enforces our aimed 1D propagation of the wave, we assume no energy loss. \n",
    "For this, the height and width of this tube must be much, much smaller than the wavelength under consideration.\n",
    "The length of the tube along the $x$-axis should exhibit at least half of the wavelength, but could be longer.\n",
    "\n",
    "At $x=0$ there is a sound rigid wall (the choice of $0$ makes calculus much simpler).\n",
    "This results in our considered boundary condition $v(x=0) = 0$.\n",
    "Sound rigid walls force velocity to zero at the wall, walls are rather not moving by impinging sound waves, right?!\n",
    "\n",
    "\n",
    "In Ch. 2 of https://link.springer.com/book/10.1007/978-3-662-47704-5 we find the derivation of the standing wave phenomena which we are dealing here.\n",
    "\n",
    "We need the density of air $\\rho_0$ in the below equations."
   ]
  },
  {
   "cell_type": "markdown",
   "id": "e116e909",
   "metadata": {},
   "source": [
    "## 3.1 Solution standing wave\n",
    "\n",
    "The solution is\n",
    "\n",
    "$$p(x,t) = 2 p_A \\cos(k_x x) \\mathrm{e}^{\\mathrm{j} \\omega t}$$\n",
    "$$v(x,t) = 2 p_A \\frac{-\\mathrm{j}}{\\rho_0 c}\\sin(k_x x) \\mathrm{e}^{\\mathrm{j} \\omega t},$$\n",
    "\n",
    "or written with our used $\\Re$-part convention (note: $-\\mathrm{j} = \\mathrm{e}^{-\\mathrm{j}\\frac{\\pi}{2}}$, $\\cos(\\omega t-\\frac{\\pi}{2}) = \\sin(\\omega t)$)\n",
    "\n",
    "$$p(x,t) = 2 p_A \\cos(k_x x) \\cos(\\omega t)$$\n",
    "$$v(x,t) = 2 p_A \\frac{1}{\\rho_0 c}\\sin(k_x x) \\sin(\\omega t)$$\n",
    "\n",
    "The other boundary condition $v(x=-l) = v_A$ yields the relation between $v_A$ and $p_A$ (note: use complex formulation and $-\\sin(-x) = \\sin(x)$)\n",
    "\n",
    "$$v_A = 2 p_A \\frac{-\\mathrm{j}}{\\rho_0 c}\\sin(k_x (-l)) = \\frac{p_A}{\\rho_0 c} 2 \\mathrm{j} \\sin(k_x l)$$\n",
    "\n",
    "Below, for simplicity, we used $p_A = 1 \\mathrm{N}/\\mathrm{m}^2$ and also we normalized the plots, such that the actual imposed energy is not given in absolute values."
   ]
  },
  {
   "cell_type": "code",
   "execution_count": null,
   "id": "c3bfde44",
   "metadata": {},
   "outputs": [],
   "source": [
    "n_samples_per_period = 64\n",
    "c = 343  # m/s, speed of sound\n",
    "wave_length = 1  # m\n",
    "pA = 1  # N / m^2 -> see above how vA is derived from that\n",
    "rho0 = 1.2041  # kg/m^3"
   ]
  },
  {
   "cell_type": "code",
   "execution_count": null,
   "id": "f550b37a",
   "metadata": {},
   "outputs": [],
   "source": [
    "kx = 2*np.pi / wave_length\n",
    "w_c = kx\n",
    "w = w_c * c\n",
    "Ts = 2*np.pi / (w*n_samples_per_period)  # s, sampling period\n",
    "x = np.linspace(-2*wave_length, 0, 2**10)"
   ]
  },
  {
   "cell_type": "code",
   "execution_count": null,
   "id": "8657d599",
   "metadata": {},
   "outputs": [],
   "source": [
    "N = 2**7\n",
    "x = np.linspace(-2.1334*wave_length, 0, N, endpoint=True)\n",
    "# boundary condition for rigid wall\n",
    "p_cpx = 2*pA * np.cos(kx*x)\n",
    "v_cpx = 2*pA * -1j / (rho0*c) * np.sin(kx*x)\n",
    "\n",
    "p_re = 2*pA * np.cos(kx*x)\n",
    "v_re = 2*pA * 1/(rho0*c) * np.sin(kx*x)"
   ]
  },
  {
   "cell_type": "code",
   "execution_count": null,
   "id": "94155d97",
   "metadata": {},
   "outputs": [],
   "source": [
    "fig, ax = plt.subplots(figsize=(6, 4), nrows=1, ncols=1)\n",
    "\n",
    "flag = 'cpx'  # 'cpx', re'\n",
    "\n",
    "if flag == 'cpx':\n",
    "\n",
    "    time_phasor_cpx = np.exp(+1j*w*Ts*0)\n",
    "    ax.plot(x, np.real(p_cpx/pA*time_phasor_cpx), 'C0', label='pressure')\n",
    "    ax.plot(x, np.real(v_cpx/pA*rho0*c*time_phasor_cpx), 'C1', label='velocity')\n",
    "    for k in range(n_samples_per_period):\n",
    "        time_phasor = np.exp(+1j*w*Ts*k)\n",
    "        ax.plot(x, np.real(p_cpx/pA*time_phasor), 'C0', lw=1)\n",
    "        ax.plot(x, np.real(v_cpx/pA*rho0*c*time_phasor), 'C1', lw=1)\n",
    "\n",
    "elif flag == 're':\n",
    "\n",
    "    time_phasor_cos = np.cos(w*Ts*0)\n",
    "    time_phasor_sin = np.sin(w*Ts*0)\n",
    "    ax.plot(x, p_re/pA*time_phasor_cos, 'C0', label='pressure')\n",
    "    ax.plot(x, v_re/pA*rho0*c*time_phasor_sin, 'C1', label='velocity')\n",
    "    for k in range(n_samples_per_period):\n",
    "        time_phasor_cos = np.cos(w*Ts*k)\n",
    "        time_phasor_sin = np.sin(w*Ts*k)\n",
    "        ax.plot(x, p_re/pA*time_phasor_cos, 'C0', lw=1)\n",
    "        ax.plot(x, v_re/pA*rho0*c*time_phasor_sin, 'C1', lw=1)\n",
    "\n",
    "\n",
    "ax.set_xlabel('x / m')\n",
    "ax.set_ylabel(r'$\\frac{p}{pA}$, $\\frac{v}{pA}\\cdot\\rho_0 c$')\n",
    "ax.set_xlim(x[0], x[-1])\n",
    "ax.set_ylim(-2, 0)\n",
    "ax.set_xticks(np.linspace(-2*wave_length, 0, 5))\n",
    "ax.set_yticks(np.linspace(-2, 2, 5))\n",
    "ax.legend()\n",
    "ax.grid(True)"
   ]
  },
  {
   "cell_type": "markdown",
   "id": "41da0745",
   "metadata": {},
   "source": [
    "## 3.2 Animation of standing wave"
   ]
  },
  {
   "cell_type": "code",
   "execution_count": null,
   "id": "e7a23115",
   "metadata": {},
   "outputs": [],
   "source": [
    "flag = 'cpx'  # 'cpx', re'\n",
    "n_periods = 2\n",
    "n_samples_per_period = 64\n",
    "Ts = 2*np.pi / (w*n_samples_per_period)  # s, sampling period\n",
    "\n",
    "\n",
    "def init():\n",
    "    ax.set_xlabel('x / m')\n",
    "    ax.set_ylabel(r'$\\frac{p}{pA}$, $\\frac{v}{pA}\\cdot\\rho_0 c$')\n",
    "    ax.set_xlim(x[0], x[-1])\n",
    "    ax.set_ylim(-2, 0)\n",
    "    ax.set_xticks(np.linspace(-2*wave_length, 0, 5))\n",
    "    ax.set_yticks(np.linspace(-2, 2, 5))\n",
    "    ax.grid(True)\n",
    "\n",
    "\n",
    "def update(frame):\n",
    "    ax.clear()\n",
    "    init()\n",
    "\n",
    "    if flag == 'cpx':\n",
    "\n",
    "        time_phasor = np.exp(+1j*w*Ts*frame)\n",
    "        ax.plot(x, np.real(p_cpx/pA*time_phasor), 'C0', label='pressure')\n",
    "        ax.plot(x, np.real(v_cpx/pA*rho0*c*time_phasor), 'C1', label='velocity')\n",
    "\n",
    "    elif flag == 're':\n",
    "\n",
    "        time_phasor_cos = np.cos(w*Ts*frame)\n",
    "        time_phasor_sin = np.sin(w*Ts*frame)\n",
    "        ax.plot(x, p_re/pA*time_phasor_cos, 'C0', label='pressure')\n",
    "        ax.plot(x, v_re/pA*rho0*c*time_phasor_sin, 'C1', label='velocity')\n",
    "\n",
    "    ax.set_title('elapsed time {time:4.3f} ms'.format(time=Ts*frame*1000))\n",
    "    ax.legend(loc='upper left')"
   ]
  },
  {
   "cell_type": "code",
   "execution_count": null,
   "id": "73eff736",
   "metadata": {},
   "outputs": [],
   "source": [
    "fig, ax = plt.subplots(figsize=(7, 4), nrows=1, ncols=1)\n",
    "update(0)\n",
    "init()\n",
    "\n",
    "ani = FuncAnimation(fig, update,\n",
    "                    frames=np.arange(n_periods*n_samples_per_period+4),\n",
    "                    blit=True, interval=50,\n",
    "                    repeat=False)\n",
    "plt.show()"
   ]
  },
  {
   "cell_type": "markdown",
   "id": "7720ba40",
   "metadata": {},
   "source": [
    "<p xmlns:dct=\"http://purl.org/dc/terms/\">\n",
    "  <a rel=\"license\"\n",
    "     href=\"http://creativecommons.org/publicdomain/zero/1.0/\">\n",
    "    <img src=\"http://i.creativecommons.org/p/zero/1.0/88x31.png\" style=\"border-style: none;\" alt=\"CC0\" />\n",
    "  </a>\n",
    "  <br />\n",
    "  To the extent possible under law,\n",
    "  <span rel=\"dct:publisher\" resource=\"[_:publisher]\">the person who associated CC0</span>\n",
    "  with this work has waived all copyright and related or neighboring\n",
    "    rights to this work.\n",
    "</p>"
   ]
  }
 ],
 "metadata": {
  "kernelspec": {
   "display_name": "mycomac",
   "language": "python",
   "name": "mycomac"
  },
  "language_info": {
   "codemirror_mode": {
    "name": "ipython",
    "version": 3
   },
   "file_extension": ".py",
   "mimetype": "text/x-python",
   "name": "python",
   "nbconvert_exporter": "python",
   "pygments_lexer": "ipython3",
   "version": "3.9.12"
  }
 },
 "nbformat": 4,
 "nbformat_minor": 5
}
