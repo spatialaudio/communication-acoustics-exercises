{
 "cells": [
  {
   "cell_type": "code",
   "execution_count": null,
   "id": "4fd1e97d-5126-4703-9486-6eebc2441645",
   "metadata": {},
   "outputs": [],
   "source": [
    "import ipywidgets as widgets\n",
    "import matplotlib.pyplot as plt\n",
    "import numpy as np"
   ]
  },
  {
   "cell_type": "markdown",
   "id": "c2607699-c7af-4ff9-8359-217cbc39ad6f",
   "metadata": {},
   "source": [
    "# 1D-Modes\n",
    "\n",
    "Imagine a long hollow tube with length $l$ aligned along the $x$-axis with a diameter $h$ in $y$-direction. In general the condition $h<<l$ holds.\n",
    "At the left end of the tube is a speaker, and the right end is open.\n",
    "The walls of the tube at $y=0$ and $y=h$ have a reflection factor of $r=1$. \n",
    "This means that the velocity components at positions $y=0$ and $y=h$ are zero:\n",
    "\n",
    "$$ \\frac{\\partial p}{\\partial y}\\Big|_{y=0} = \\frac{\\partial p}{\\partial y}\\Big|_{y=h} = 0.$$\n",
    "\n",
    "If we insert a wave\n",
    "\n",
    "$$p = p_0 \\, \\mathrm{e}^{- \\mathrm{j}k_xx}(\\mathrm{e}^{- \\mathrm{j}k_yy} + r\\mathrm{e}^{\\mathrm{j}k_yy})$$\n",
    "\n",
    "into this tube, the first boundary condition at $y=0$ yields with $r=1$ to:\n",
    "\n",
    "$$ p = 2 p_0 e^{-jk_xx} \\mathrm{cos}(k_yy).$$\n",
    "\n",
    "The second boundary condition at the point $y = h$ requires:\n",
    "\n",
    "$$  \\mathrm{sin}(k_yh) = 0.$$\n",
    "\n",
    "This so-called \"eigen value equation\" of the tube has the solutions:\n",
    "\n",
    "$$ k_y = \\frac{n \\pi}{h}; \\quad n = 0,1,2, \\dots$$\n",
    "\n",
    "\n",
    "There are only very specific possible wavenumbers $k_y$ for the lateral pressure distribution gene in the tube; they are referred to as \"eigenvalues\" or \"modes\". For every eigenvalue, there is a\n",
    "very specific pressure profile $f_n(y)$ with respect to the $y$-direction:\n",
    "\n",
    "$$f_n(y) = \\mathrm{cos}(k_yy) = \\mathrm{cos}\\Big(\\frac{n \\pi y}{h} \\Big) $$\n",
    "\n",
    "### Task: Programm a plot that visualizes the first four modes $f_n(y)$ between $y=0$ and $y=h$.\n",
    "\n",
    "- Set $h = 1 \\mathrm{m}$ as the length of the spectated $y$-axis\n",
    "- $n$ is the mode index\n",
    "- Use `y = np.linspace(0,h,N)` for computing $f_n(y)$ with a number of steps of `N=2**7`"
   ]
  },
  {
   "cell_type": "code",
   "execution_count": null,
   "id": "848ee4ff-16ea-421e-84ac-1d9572d0acd1",
   "metadata": {},
   "outputs": [],
   "source": []
  },
  {
   "cell_type": "markdown",
   "id": "c6fae10e-8d1e-408e-889c-87dc41359e4f",
   "metadata": {},
   "source": [
    "## Review of 2D Case\n",
    "\n",
    "Suppose we create a flat rectangular area, of length $L_x$ in the $x$-axis and width $L_y$ in the $y$-axis direction.\n",
    "This area can be interpreted as a membrane. \n",
    "\n",
    "To describe the movement of this membrane, or the pressure $p(x,y,t)$, we assume the two-dimensional wave equation to be fulfilled:\n",
    "\n",
    "$$\\frac{\\partial^2p(x,y,t)}{\\partial x^2} + \\frac{\\partial^2p(x,y,t)}{\\partial y^2} = \\frac{1}{c^2} \\frac{\\partial^2p(x,y,t)}{\\partial t^2}.$$\n",
    "\n",
    "For a better understanding, we can split the function $p(x,y,t)$ as the products of separate functions of the three variables $x$, $y$ and $t$:\n",
    "\n",
    "$$ p(x,y,t) = A\\, f(x)\\, g(y)\\, h(t)$$\n",
    "\n",
    "Putting the three components together $p(x,y,t)$ can be written as:\n",
    "\n",
    "$$ p(x,y,t) = A \\, \\mathrm{cos}(k_xx) \\, \\mathrm{cos}(k_yy)\\,\\mathrm{cos}(\\omega_{m,n} t)$$\n",
    "\n",
    "Because of the rigit walls, the following boundary conditions holds:\n",
    "\n",
    "$$ \\frac{\\partial p}{\\partial y}\\Big|_{y=0} = \\frac{\\partial p}{\\partial y}\\Big|_{y=L_y} = 0,$$\n",
    "\n",
    "$$ \\frac{\\partial p}{\\partial x}\\Big|_{x=0} = \\frac{\\partial p}{\\partial x}\\Big|_{x=L_x} = 0.$$\n",
    "\n",
    "To fulfil these conditions at the point $x = L_x$ and $y = L_y$ we require:\n",
    "\n",
    "$$  \\mathrm{sin}(k_xL_x) = 0.$$\n",
    "\n",
    "$$  \\mathrm{sin}(k_yL_y) = 0.$$\n",
    "\n",
    "so the eigenvalues are:\n",
    "\n",
    "$$ k_x = \\frac{n \\pi}{L_x}; \\quad n = 0,1,2, \\dots$$\n",
    "\n",
    "$$ k_y = \\frac{m \\pi}{L_y}; \\quad m = 0,1,2, \\dots$$\n",
    "\n",
    "In relation to the boundary conditions we get the $x,y$- axis pressure dependencies as:\n",
    "\n",
    "$$f_n(x) = \\mathrm{cos}(k_xx)= \\mathrm{cos}\\Big(\\frac{n \\pi x}{L_x}\\Big) \\quad, n = 1,2,3,\\dots $$\n",
    "and\n",
    "$$g_m(y) = \\mathrm{cos}(k_yy) = \\mathrm{cos}\\Big(\\frac{m \\pi y}{L_y}\\Big) \\quad, m = 1,2,3,\\dots $$\n",
    "\n",
    "The frequency oscillation depend on both indices $m,n$, so we have to include $\\omega_{m,n}$ for the time dimension and assume $h(t) = \\mathrm{cos}(\\omega_{m,n} t)$\n",
    "\n",
    "### Task: Prove for which condition $p(x,y,t)$ satisfies the wave equation"
   ]
  },
  {
   "cell_type": "markdown",
   "id": "73008f94-b70c-42d9-9c7a-205c9355231a",
   "metadata": {},
   "source": [
    "### Task: Programm a visualization for the 2D modes using $m,n$ as an input parameter\n",
    "\n",
    "- Set `L_x, L_y = 1,1`\n",
    "- Use the static time index `t=0`\n",
    "- Set the number of grid points along X and Y to `N=50`\n",
    "- Hints: \n",
    "    - Use `np.meshgrid()` for generating 2D meshes\n",
    "    - Use `plt.contourf()` for plotting the mesh"
   ]
  },
  {
   "cell_type": "code",
   "execution_count": null,
   "id": "956fbf31-4829-4872-813d-b3efe31c0832",
   "metadata": {},
   "outputs": [],
   "source": []
  }
 ],
 "metadata": {
  "kernelspec": {
   "display_name": "Python 3 (ipykernel)",
   "language": "python",
   "name": "python3"
  },
  "language_info": {
   "codemirror_mode": {
    "name": "ipython",
    "version": 3
   },
   "file_extension": ".py",
   "mimetype": "text/x-python",
   "name": "python",
   "nbconvert_exporter": "python",
   "pygments_lexer": "ipython3",
   "version": "3.9.12"
  }
 },
 "nbformat": 4,
 "nbformat_minor": 5
}
