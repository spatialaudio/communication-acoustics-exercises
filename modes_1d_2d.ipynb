{
 "cells": [
  {
   "cell_type": "code",
   "execution_count": null,
   "id": "4fd1e97d-5126-4703-9486-6eebc2441645",
   "metadata": {},
   "outputs": [],
   "source": [
    "import matplotlib.pyplot as plt\n",
    "import numpy as np"
   ]
  },
  {
   "cell_type": "markdown",
   "id": "c2607699-c7af-4ff9-8359-217cbc39ad6f",
   "metadata": {},
   "source": [
    "# Modes\n",
    "\n",
    "## Review of 1D Case\n",
    "Let´s assume a function $p(x,t)$ that satisfies the one dimensional wave equation:\n",
    "\n",
    "$$\\frac{\\partial^2p(x,t)}{\\partial x^2} = \\frac{1}{c^2} \\frac{\\partial^2p(x,t)}{\\partial t^2} .$$\n",
    "\n",
    "The eigenmodes are defined as:\n",
    "\n",
    "$$f_n(x) = \\mathrm{sin}\\Big(\\frac{n \\pi x}{L_x}\\Big) \\quad, n = 1,2,3,\\dots .$$\n",
    "\n",
    "### Task: Programm a plot that visualises the first four modes.\n",
    "\n",
    "- Set $L_x = 1 \\mathrm{m}$ as the length of the spectated $x$-axis\n",
    "- $n$ is the mode index\n",
    "- Use `x = np.linspace(0,Lx,N)` for computing $f_n(x)$ with a step size `N=2**7`"
   ]
  },
  {
   "cell_type": "code",
   "execution_count": null,
   "id": "848ee4ff-16ea-421e-84ac-1d9572d0acd1",
   "metadata": {},
   "outputs": [],
   "source": []
  },
  {
   "cell_type": "markdown",
   "id": "c6fae10e-8d1e-408e-889c-87dc41359e4f",
   "metadata": {},
   "source": [
    "## Review of 2D Case\n",
    "\n",
    "Suppose we create a flat rectangular plate, of length $L_x$ in $x$-axis and with a width $L_y$ in $y$-axis direction.\n",
    "With the addition of a $y$ dimension the function gets $p(x,y,t)$.  \n",
    "For this case the two dimensional wave equation holds:\n",
    "\n",
    "\n",
    "$$\\frac{\\partial^2p(x,y,t)}{\\partial x^2} + \\frac{\\partial^2p(x,y,t)}{\\partial y^2} = \\frac{1}{c^2} \\frac{\\partial^2p(x,y,t)}{\\partial t^2} .$$\n",
    "\n",
    "For a better understanding, we can split the function $p(x,y,t)$ as the products of separate functions of the three variables $x$, $y$ and $t$:\n",
    "\n",
    "$$ p(x,y,t) = A\\, f_n(x)\\, g_m(y)\\, h(t)$$\n",
    "\n",
    "Based on the one dimensional experience with the normal modes we get the $x,y$- axis dependecies as:\n",
    "\n",
    "$$f_n(x) = \\mathrm{sin}\\Big(\\frac{n \\pi x}{L_x}\\Big) \\quad, n = 1,2,3,\\dots $$\n",
    "and\n",
    "$$g_n(y) = \\mathrm{sin}\\Big(\\frac{m \\pi y}{L_y}\\Big) \\quad, n = 1,2,3,\\dots $$\n",
    "\n",
    "The frequency oscillation depend on both indices $m,n$, so we have to include $\\omega_{m,n}$ for the time dimension and assume $h(t) = \\mathrm{cos}(\\omega_{m,n} t)$\n",
    "\n",
    "Putting the three components back together $p(x,y,t)$ can be written as:\n",
    "\n",
    "$$ p(x,y,t) = A \\, \\mathrm{sin}\\Big(\\frac{n \\pi x}{L_x}\\Big) \\, \\mathrm{sin}\\Big(\\frac{m \\pi y}{L_y}\\Big)\\,\\mathrm{cos}(\\omega_{m,n} t)$$\n",
    "\n",
    "### Task: Prove for which condition $p(x,y,t)$ satisfies the wave equation"
   ]
  },
  {
   "cell_type": "markdown",
   "id": "73008f94-b70c-42d9-9c7a-205c9355231a",
   "metadata": {},
   "source": [
    "### Task: Programm a visualization for the 2D modes using $m,n$ as an input parameter\n",
    "\n",
    "- Set `L_x, L_y = 1,1`\n",
    "- Use the static time index `t=0`\n",
    "- Set the number of grid points along X and Y to `N=50`\n",
    "- Hints: \n",
    "    - Use `np.meshgrid()` for generating 2D meshes\n",
    "    - Use `plt.contourf()` for plotting the mesh"
   ]
  },
  {
   "cell_type": "code",
   "execution_count": null,
   "id": "956fbf31-4829-4872-813d-b3efe31c0832",
   "metadata": {},
   "outputs": [],
   "source": []
  }
 ],
 "metadata": {
  "kernelspec": {
   "display_name": "Python 3 (ipykernel)",
   "language": "python",
   "name": "python3"
  },
  "language_info": {
   "codemirror_mode": {
    "name": "ipython",
    "version": 3
   },
   "file_extension": ".py",
   "mimetype": "text/x-python",
   "name": "python",
   "nbconvert_exporter": "python",
   "pygments_lexer": "ipython3",
   "version": "3.9.12"
  }
 },
 "nbformat": 4,
 "nbformat_minor": 5
}
